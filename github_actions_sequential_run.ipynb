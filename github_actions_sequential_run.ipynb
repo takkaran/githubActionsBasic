{
 "cells": [
  {
   "cell_type": "code",
   "execution_count": 11,
   "id": "32ac4c0d-13ff-445a-a2a1-0c143b9500d4",
   "metadata": {},
   "outputs": [
    {
     "name": "stdout",
     "output_type": "stream",
     "text": [
      "Usage: python github_actions_sequential_run.py <step>\n"
     ]
    },
    {
     "ename": "SystemExit",
     "evalue": "1",
     "output_type": "error",
     "traceback": [
      "An exception has occurred, use %tb to see the full traceback.\n",
      "\u001b[1;31mSystemExit\u001b[0m\u001b[1;31m:\u001b[0m 1\n"
     ]
    }
   ],
   "source": [
    "# Import necessary libraries\n",
    "import numpy as np\n",
    "from sklearn.model_selection import train_test_split\n",
    "from sklearn.linear_model import LinearRegression\n",
    "from sklearn.metrics import mean_squared_error, r2_score\n",
    "\n",
    "# Define global variables\n",
    "X_train, X_test, y_train, y_test = None, None, None, None\n",
    "model = None\n",
    "\n",
    "def preprocessing():\n",
    "    # Your preprocessing code here\n",
    "    global X_train, X_test, y_train, y_test\n",
    "    np.random.seed(42)\n",
    "    X = 2 * np.random.rand(100, 1)\n",
    "    y = 4 + 3 * X + np.random.randn(100, 1)\n",
    "\n",
    "    # Split the data into training and testing sets\n",
    "    X_train, X_test, y_train, y_test = train_test_split(X, y, test_size=0.2, random_state=42)\n",
    "\n",
    "    # Save preprocessed data or perform additional preprocessing steps\n",
    "    print(\"Preprocessing completed.\")\n",
    "    return X_train, X_test, y_train, y_test\n",
    "\n",
    "def model_building():\n",
    "    # Your model building code here\n",
    "    # Note: X_train, y_train should be available from preprocessing step\n",
    "    global X_train, y_train, model\n",
    "    model = LinearRegression()\n",
    "\n",
    "    # Train the model\n",
    "    model.fit(X_train, y_train)\n",
    "\n",
    "    # Save the trained model or perform additional model-building steps\n",
    "    print(\"Model building completed.\")\n",
    "    return model\n",
    "\n",
    "def model_evaluation():\n",
    "    # Your model evaluation code here\n",
    "    # Note: X_test, y_test should be available from preprocessing step\n",
    "    global X_test, y_test, model\n",
    "    y_pred = model.predict(X_test)\n",
    "\n",
    "    # Calculate metrics\n",
    "    mse = mean_squared_error(y_test, y_pred)\n",
    "    r2 = r2_score(y_test, y_pred)\n",
    "\n",
    "    # Print the metrics\n",
    "    print(f'Mean Squared Error: {mse:.2f}')\n",
    "    print(f'R2 Score: {r2:.2f}')\n",
    "    print(\"Model evaluation completed.\")\n",
    "\n",
    "# Determine which function to run based on command line argument\n",
    "import sys\n",
    "\n",
    "if len(sys.argv) != 2:\n",
    "    print(\"Usage: python github_actions_sequential_run.py <step>\")\n",
    "    sys.exit(1)\n",
    "\n",
    "step = sys.argv[1]\n",
    "\n",
    "if step == 'preprocessing':\n",
    "    preprocessing()\n",
    "elif step == 'model_building':\n",
    "    model_building()\n",
    "elif step == 'model_evaluation':\n",
    "    model_evaluation()\n",
    "else:\n",
    "    print(f\"Unknown step: {step}\")\n",
    "    sys.exit(1)\n"
   ]
  },
  {
   "cell_type": "code",
   "execution_count": null,
   "id": "5e4c8746-8371-40f0-843a-eb5e0e86dc49",
   "metadata": {},
   "outputs": [],
   "source": []
  },
  {
   "cell_type": "code",
   "execution_count": null,
   "id": "462a0e4b-701e-4bba-8434-42129f4d7ae5",
   "metadata": {},
   "outputs": [],
   "source": []
  }
 ],
 "metadata": {
  "kernelspec": {
   "display_name": "Python 3 (ipykernel)",
   "language": "python",
   "name": "python3"
  },
  "language_info": {
   "codemirror_mode": {
    "name": "ipython",
    "version": 3
   },
   "file_extension": ".py",
   "mimetype": "text/x-python",
   "name": "python",
   "nbconvert_exporter": "python",
   "pygments_lexer": "ipython3",
   "version": "3.11.4"
  }
 },
 "nbformat": 4,
 "nbformat_minor": 5
}
