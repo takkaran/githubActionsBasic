{
 "cells": [
  {
   "cell_type": "code",
   "execution_count": 1,
   "id": "be06b3ea-71ff-473e-9937-6752680a9ce7",
   "metadata": {},
   "outputs": [],
   "source": [
    "# !pip install boto3\n",
    "import boto3\n",
    "import pandas as pd\n",
    "from sklearn.model_selection import train_test_split\n",
    "from sklearn.linear_model import LinearRegression\n",
    "from sklearn.metrics import accuracy_score\n",
    "import os\n",
    "from sklearn.metrics import mean_squared_error"
   ]
  },
  {
   "cell_type": "code",
   "execution_count": 2,
   "id": "2d5a8854-0efd-4655-94cd-560e71820def",
   "metadata": {},
   "outputs": [
    {
     "ename": "KeyError",
     "evalue": "'AWS_ACCESS_KEY_ID'",
     "output_type": "error",
     "traceback": [
      "\u001b[1;31m---------------------------------------------------------------------------\u001b[0m",
      "\u001b[1;31mKeyError\u001b[0m                                  Traceback (most recent call last)",
      "Cell \u001b[1;32mIn[2], line 2\u001b[0m\n\u001b[0;32m      1\u001b[0m \u001b[38;5;66;03m# Replace 'YOUR_ACCESS_KEY' and 'YOUR_SECRET_KEY' with your actual credentials\u001b[39;00m\n\u001b[1;32m----> 2\u001b[0m access_key \u001b[38;5;241m=\u001b[39m \u001b[43mos\u001b[49m\u001b[38;5;241;43m.\u001b[39;49m\u001b[43menviron\u001b[49m\u001b[43m[\u001b[49m\u001b[38;5;124;43m'\u001b[39;49m\u001b[38;5;124;43mAWS_ACCESS_KEY_ID\u001b[39;49m\u001b[38;5;124;43m'\u001b[39;49m\u001b[43m]\u001b[49m\n\u001b[0;32m      3\u001b[0m secret_key \u001b[38;5;241m=\u001b[39m os\u001b[38;5;241m.\u001b[39menviron[\u001b[38;5;124m'\u001b[39m\u001b[38;5;124mAWS_SECRET_ACCESS_KEY\u001b[39m\u001b[38;5;124m'\u001b[39m]\n\u001b[0;32m      5\u001b[0m \u001b[38;5;66;03m# Replace 'your-s3-bucket' with the name of your S3 bucket\u001b[39;00m\n",
      "File \u001b[1;32m<frozen os>:679\u001b[0m, in \u001b[0;36m__getitem__\u001b[1;34m(self, key)\u001b[0m\n",
      "\u001b[1;31mKeyError\u001b[0m: 'AWS_ACCESS_KEY_ID'"
     ]
    }
   ],
   "source": [
    "# Replace 'YOUR_ACCESS_KEY' and 'YOUR_SECRET_KEY' with your actual credentials\n",
    "access_key = os.environ['AWS_ACCESS_KEY_ID']\n",
    "secret_key = os.environ['AWS_SECRET_ACCESS_KEY']\n",
    "\n",
    "# Replace 'your-s3-bucket' with the name of your S3 bucket\n",
    "bucket_name = 's3practicebucketkaran'\n",
    "\n",
    "# Specify the AWS region\n",
    "region_name = 'us-east-1'  # Change to your desired AWS region\n",
    "\n",
    "# Create a session with your AWS credentials\n",
    "session = boto3.Session(\n",
    "    aws_access_key_id=access_key,\n",
    "    aws_secret_access_key=secret_key,\n",
    "    region_name=region_name\n",
    ")\n",
    "\n",
    "# Create an S3 client using the session\n",
    "s3_client = session.client('s3')"
   ]
  },
  {
   "cell_type": "markdown",
   "id": "018ac9c4-b7ee-4dec-8ae7-aa45181d2db0",
   "metadata": {},
   "source": [
    "### Uploading and Downloading the model directly using cloud"
   ]
  },
  {
   "cell_type": "code",
   "execution_count": null,
   "id": "6d4f1221-ff5e-4b70-8bc4-e37d73af54d3",
   "metadata": {},
   "outputs": [
    {
     "name": "stdout",
     "output_type": "stream",
     "text": [
      "Mean Squared Error: 44410271.37055973\n"
     ]
    }
   ],
   "source": [
    "import boto3\n",
    "import pandas as pd\n",
    "from sklearn.model_selection import train_test_split\n",
    "from sklearn.linear_model import LinearRegression\n",
    "from sklearn.metrics import mean_squared_error\n",
    "import joblib\n",
    "from io import BytesIO\n",
    "\n",
    "# Step 1: Download CSV from S3\n",
    "def download_csv_from_s3(bucket_name, s3_object_key):\n",
    "    response = s3_client.get_object(Bucket=bucket_name, Key=s3_object_key)\n",
    "    df = pd.read_csv(BytesIO(response['Body'].read()), index_col=0)\n",
    "    return df\n",
    "\n",
    "# Step 2: Perform Model Evaluation and Building in Jupyter Notebook\n",
    "def train_and_evaluate_model(df):\n",
    "    x = df.iloc[:, 0:1]\n",
    "    y = df.iloc[:, 1:2]\n",
    "\n",
    "    x_train, x_test, y_train, y_test = train_test_split(x, y, test_size=0.5, random_state=2)\n",
    "\n",
    "    model = LinearRegression()\n",
    "    model.fit(x_train, y_train)\n",
    "    predictions = model.predict(x_test)\n",
    "\n",
    "    # Evaluate the model using mean squared error (since it's a regression task)\n",
    "    mse = mean_squared_error(y_test, predictions)\n",
    "    print(f\"Mean Squared Error: {mse}\")\n",
    "\n",
    "    # Step 3: Save Model to BytesIO buffer\n",
    "    model_buffer = BytesIO()\n",
    "    joblib.dump(model, model_buffer)\n",
    "    model_buffer.seek(0)\n",
    "\n",
    "    # Step 4: Upload Model File to S3\n",
    "    upload_model_to_s3(bucket_name, 'linear_salary_model.pkl', model_buffer)\n",
    "\n",
    "# Step 4 (continued): Upload Model File to S3\n",
    "def upload_model_to_s3(bucket_name, s3_object_key, model_buffer):\n",
    "    s3_client.upload_fileobj(model_buffer, bucket_name, s3_object_key)\n",
    "\n",
    "model_s3_object_key = 'salary_dataset.csv'\n",
    "\n",
    "# Create a session with your AWS credentials\n",
    "session = boto3.Session(\n",
    "    aws_access_key_id=access_key,\n",
    "    aws_secret_access_key=secret_key,\n",
    "    region_name='us-east-1'  # Change to your desired AWS region\n",
    ")\n",
    "\n",
    "# Create an S3 client using the session\n",
    "s3_client = session.client('s3')\n",
    "\n",
    "# Step 1: Download CSV from S3\n",
    "df = download_csv_from_s3(bucket_name, model_s3_object_key)\n",
    "\n",
    "# Step 2-4: Perform Model Evaluation and Building, Save Model, Upload Model\n",
    "train_and_evaluate_model(df)\n"
   ]
  },
  {
   "cell_type": "code",
   "execution_count": null,
   "id": "8a555b01-8092-414c-b13a-96a21b81944a",
   "metadata": {},
   "outputs": [],
   "source": []
  },
  {
   "cell_type": "code",
   "execution_count": null,
   "id": "53e2519f",
   "metadata": {},
   "outputs": [],
   "source": []
  }
 ],
 "metadata": {
  "kernelspec": {
   "display_name": "Python 3 (ipykernel)",
   "language": "python",
   "name": "python3"
  },
  "language_info": {
   "codemirror_mode": {
    "name": "ipython",
    "version": 3
   },
   "file_extension": ".py",
   "mimetype": "text/x-python",
   "name": "python",
   "nbconvert_exporter": "python",
   "pygments_lexer": "ipython3",
   "version": "3.11.4"
  }
 },
 "nbformat": 4,
 "nbformat_minor": 5
}
